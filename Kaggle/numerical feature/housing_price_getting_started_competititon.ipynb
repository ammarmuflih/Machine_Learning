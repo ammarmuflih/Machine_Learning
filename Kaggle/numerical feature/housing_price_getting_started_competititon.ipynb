{
 "cells": [
  {
   "cell_type": "code",
   "execution_count": null,
   "id": "be3a405e",
   "metadata": {},
   "outputs": [],
   "source": [
    "import numpy as np\n",
    "import pandas as pd\n",
    "import matplotlib.pyplot as plt\n",
    "import seaborn as sns\n",
    "\n",
    "from sklearn.ensemble import RandomForestRegressor\n",
    "from sklearn.tree import DecisionTreeRegressor\n",
    "from sklearn.metrics import mean_absolute_error\n",
    "from sklearn.model_selection import train_test_split\n",
    "\n",
    "from sklearn.pipeline import Pipeline, make_pipeline\n",
    "from sklearn.impute import SimpleImputer\n",
    "from sklearn.compose import ColumnTransformer\n",
    "from sklearn.datasets import make_regression\n",
    "from sklearn.preprocessing import StandardScaler, FunctionTransformer"
   ]
  },
  {
   "cell_type": "code",
   "execution_count": null,
   "id": "72d6bed6",
   "metadata": {},
   "outputs": [],
   "source": [
    "train_data_path = \"..\\\\..\\\\Kaggle\\\\data\\\\home-data-for-ml-course\\\\train.csv\"\n",
    "test_data_path = \"..\\\\..\\\\Kaggle\\\\data\\\\home-data-for-ml-course\\\\test.csv\"\n",
    "\n",
    "train_data = pd.read_csv(train_data_path)\n",
    "test_data = pd.read_csv(test_data_path)"
   ]
  },
  {
   "cell_type": "code",
   "execution_count": null,
   "id": "6b512967",
   "metadata": {},
   "outputs": [],
   "source": [
    "train_data.columns"
   ]
  },
  {
   "cell_type": "code",
   "execution_count": null,
   "id": "c8d01a5f",
   "metadata": {},
   "outputs": [],
   "source": [
    "# y_train = train_data.SalePrice\n",
    "# train_data = train_data.drop(columns=['SalePrice'])"
   ]
  },
  {
   "cell_type": "code",
   "execution_count": null,
   "id": "706b9744",
   "metadata": {},
   "outputs": [],
   "source": [
    "def numerical_feature_columns(data):\n",
    "    numerical_feature_columns = data.select_dtypes(include='number').columns.to_list()\n",
    "    return numerical_feature_columns\n",
    "\n",
    "train_num_cols = numerical_feature_columns(train_data)\n",
    "test_num_cols = numerical_feature_columns(test_data)\n"
   ]
  },
  {
   "cell_type": "code",
   "execution_count": null,
   "id": "05779e99",
   "metadata": {},
   "outputs": [],
   "source": [
    "# y_train = train_data.SalePrice\n",
    "# y_test = \"-\"\n",
    "# X_train = train_data[train_num_cols]\n",
    "# X_test = test_data[test_num_cols]\n",
    "\n",
    "y = train_data.SalePrice\n",
    "train_X, val_X, train_y, val_y = train_test_split()"
   ]
  },
  {
   "cell_type": "markdown",
   "id": "5472b43e",
   "metadata": {},
   "source": [
    "## Try to use pipeline from sklearn to simplify data preprocesses"
   ]
  },
  {
   "cell_type": "code",
   "execution_count": null,
   "id": "8f166123",
   "metadata": {},
   "outputs": [],
   "source": [
    "def drop_id(X):\n",
    "    return X.drop('Id', axis=1)"
   ]
  },
  {
   "cell_type": "code",
   "execution_count": null,
   "id": "9d9adebf",
   "metadata": {},
   "outputs": [],
   "source": [
    "numeric_processor = Pipeline(\n",
    "    steps=[\n",
    "        ('drop_id', FunctionTransformer(drop_id, validate=False)),\n",
    "        ('imputation_mean', SimpleImputer(missing_values=np.nan, strategy=\"mean\")),\n",
    "        (\"scaler\", StandardScaler())\n",
    "    ]\n",
    ")\n",
    "\n",
    "preprocessor = ColumnTransformer(\n",
    "    [\n",
    "        (\"numerical_prep\", numeric_processor, train_num_cols)\n",
    "    ]\n",
    ")"
   ]
  },
  {
   "cell_type": "markdown",
   "id": "18131e62",
   "metadata": {},
   "source": [
    "## Decision Tree Regressor"
   ]
  },
  {
   "cell_type": "code",
   "execution_count": null,
   "id": "dbf6f280",
   "metadata": {},
   "outputs": [],
   "source": [
    "pipe = make_pipeline(preprocessor, DecisionTreeRegressor(random_state=1))\n",
    "pipe\n"
   ]
  },
  {
   "cell_type": "code",
   "execution_count": null,
   "id": "f906cb49",
   "metadata": {},
   "outputs": [],
   "source": [
    "pipe.fit(X_train, y_train)\n",
    "prediction = pipe.predict(X_test)\n",
    "print(prediction)\n",
    "print(len(prediction))\n",
    "print(type(prediction))"
   ]
  },
  {
   "cell_type": "code",
   "execution_count": null,
   "id": "a56da61c",
   "metadata": {},
   "outputs": [],
   "source": [
    "submission = X_test[['Id']].copy()\n",
    "submission['Predicted_target'] = prediction\n",
    "submission.to_csv('prediction.csv', index=False)"
   ]
  },
  {
   "cell_type": "code",
   "execution_count": null,
   "id": "22e367e6",
   "metadata": {},
   "outputs": [],
   "source": [
    "test_data.info()"
   ]
  }
 ],
 "metadata": {
  "kernelspec": {
   "display_name": "porto",
   "language": "python",
   "name": "python3"
  },
  "language_info": {
   "codemirror_mode": {
    "name": "ipython",
    "version": 3
   },
   "file_extension": ".py",
   "mimetype": "text/x-python",
   "name": "python",
   "nbconvert_exporter": "python",
   "pygments_lexer": "ipython3",
   "version": "3.13.2"
  }
 },
 "nbformat": 4,
 "nbformat_minor": 5
}
